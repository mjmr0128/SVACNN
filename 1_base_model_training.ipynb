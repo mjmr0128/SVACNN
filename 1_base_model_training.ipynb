{
 "cells": [
  {
   "cell_type": "markdown",
   "metadata": {},
   "source": [
    "### 1. Import libraries\n",
    "\n",
    "test **test** __test__ *test* \n",
    "1. test\n",
    "1. test\n",
    "1. test\n",
    "\n",
    "``` \n",
    "function square(n) {\n",
    "  return n * n;\n",
    "}\n",
    "```\n",
    "\n",
    "Alexnet [paper](http://papers.nips.cc/paper/4824-imagenet-classification-with-deep-convolutional-neural-networ)\n",
    "VGG16 [paper](https://arxiv.org/abs/1409.1556)\n",
    "LeNet5 [Link](http://yann.lecun.com/exdb/lenet/)\n"
   ]
  },
  {
   "cell_type": "markdown",
   "metadata": {},
   "source": [
    "### 1. Import libraries"
   ]
  },
  {
   "cell_type": "code",
   "execution_count": 1,
   "metadata": {},
   "outputs": [
    {
     "name": "stderr",
     "output_type": "stream",
     "text": [
      "Using TensorFlow backend.\n"
     ]
    }
   ],
   "source": [
    "import tensorflow as tf\n",
    "import keras\n",
    "from keras.models import Sequential, Model \n",
    "from keras.layers.core import Flatten, Dense, Dropout\n",
    "from keras.layers.convolutional import Conv2D\n",
    "from keras.layers.convolutional import MaxPooling2D\n",
    "from keras.layers.convolutional import ZeroPadding2D\n",
    "from keras.preprocessing.image import ImageDataGenerator\n",
    "from keras.callbacks import ModelCheckpoint, LearningRateScheduler\n",
    "from keras.optimizers import SGD\n",
    "import numpy as np\n",
    "import matplotlib.pyplot as plt\n",
    "from PIL import Image"
   ]
  },
  {
   "cell_type": "code",
   "execution_count": null,
   "metadata": {},
   "outputs": [],
   "source": [
    "import data\n",
    "import models     \n",
    "from validation import recall_m, precision_m, f1_m, auc"
   ]
  },
  {
   "cell_type": "markdown",
   "metadata": {},
   "source": [
    "### 2. Check a device"
   ]
  },
  {
   "cell_type": "code",
   "execution_count": 2,
   "metadata": {},
   "outputs": [
    {
     "name": "stdout",
     "output_type": "stream",
     "text": [
      "[name: \"/device:CPU:0\"\n",
      "device_type: \"CPU\"\n",
      "memory_limit: 268435456\n",
      "locality {\n",
      "}\n",
      "incarnation: 13543279120346149363\n",
      ", name: \"/device:GPU:0\"\n",
      "device_type: \"GPU\"\n",
      "memory_limit: 4945621811\n",
      "locality {\n",
      "  bus_id: 1\n",
      "  links {\n",
      "  }\n",
      "}\n",
      "incarnation: 13278150456813171124\n",
      "physical_device_desc: \"device: 0, name: GeForce GTX 1060, pci bus id: 0000:01:00.0, compute capability: 6.1\"\n",
      "]\n"
     ]
    }
   ],
   "source": [
    "from tensorflow.python.client import device_lib\n",
    "print(device_lib.list_local_devices())"
   ]
  },
  {
   "cell_type": "markdown",
   "metadata": {},
   "source": [
    "### 3. Import the data \n",
    "\n",
    "-  data_train: Input data for the base model training. The number of data is 15750 and the size of each is 50x50x2.   \n",
    "-  label_train: The label for the training. The number of label is also 15750. \n",
    "\n",
    "-  data_test: Input data for testing. The number of data is 3150 and the size of each is 50x50x2.   \n",
    "-  label_test: The label for the testing. The number of label is also 3150. "
   ]
  },
  {
   "cell_type": "code",
   "execution_count": 3,
   "metadata": {},
   "outputs": [],
   "source": [
    "data_train,label_train=data.data_train()\n",
    "data_test,label_test=data.testing()\n",
    "#data_marm,label_marm,data_marml_tl,label_marm_tl=data.marmousi()"
   ]
  },
  {
   "cell_type": "code",
   "execution_count": 4,
   "metadata": {},
   "outputs": [
    {
     "name": "stdout",
     "output_type": "stream",
     "text": [
      "train input size = (15750, 50, 50, 2)\n",
      "train label size = (15750, 40)\n",
      "test input size = (3150, 50, 50, 2)\n",
      "test label size = (3150, 40)\n"
     ]
    }
   ],
   "source": [
    "print('train input size =',data_train.shape)\n",
    "print('train label size =',label_train.shape)\n",
    "\n",
    "print('test input size =',data_test.shape)\n",
    "print('test label size =',label_test.shape)\n",
    "\n",
    "#print('marmousi input size =',data_marm.shape)\n",
    "#print('marmousi label size =',label_marm.shape)"
   ]
  },
  {
   "cell_type": "markdown",
   "metadata": {},
   "source": [
    "### 4. Defining the CNN model\n",
    "\n",
    "models library includes three CNN models:\n",
    "-  models.lenet()\n",
    "-  models.alexnet()\n",
    "-  models.vgg16()\n",
    "\n",
    "Each one have four variables: \n",
    "-  in_shape: input shape. Default is (50,50,2) \n",
    "-  n_classes: the number of class. Default is 40 \n",
    "-  fc1: the length of the first fully connected layers. \n",
    "-  fc2: the length of the second fully connected layers."
   ]
  },
  {
   "cell_type": "code",
   "execution_count": 8,
   "metadata": {},
   "outputs": [
    {
     "name": "stdout",
     "output_type": "stream",
     "text": [
      "_________________________________________________________________\n",
      "Layer (type)                 Output Shape              Param #   \n",
      "=================================================================\n",
      "block1_conv1 (Conv2D)        (None, 50, 50, 64)        1216      \n",
      "_________________________________________________________________\n",
      "batch_normalization_17 (Batc (None, 50, 50, 64)        256       \n",
      "_________________________________________________________________\n",
      "activation_17 (Activation)   (None, 50, 50, 64)        0         \n",
      "_________________________________________________________________\n",
      "block1_conv2 (Conv2D)        (None, 50, 50, 64)        36928     \n",
      "_________________________________________________________________\n",
      "batch_normalization_18 (Batc (None, 50, 50, 64)        256       \n",
      "_________________________________________________________________\n",
      "activation_18 (Activation)   (None, 50, 50, 64)        0         \n",
      "_________________________________________________________________\n",
      "block1_pool (MaxPooling2D)   (None, 25, 25, 64)        0         \n",
      "_________________________________________________________________\n",
      "block2_conv1 (Conv2D)        (None, 25, 25, 128)       73856     \n",
      "_________________________________________________________________\n",
      "batch_normalization_19 (Batc (None, 25, 25, 128)       512       \n",
      "_________________________________________________________________\n",
      "activation_19 (Activation)   (None, 25, 25, 128)       0         \n",
      "_________________________________________________________________\n",
      "block2_conv2 (Conv2D)        (None, 25, 25, 128)       147584    \n",
      "_________________________________________________________________\n",
      "batch_normalization_20 (Batc (None, 25, 25, 128)       512       \n",
      "_________________________________________________________________\n",
      "activation_20 (Activation)   (None, 25, 25, 128)       0         \n",
      "_________________________________________________________________\n",
      "block2_pool (MaxPooling2D)   (None, 12, 12, 128)       0         \n",
      "_________________________________________________________________\n",
      "block3_conv1 (Conv2D)        (None, 12, 12, 256)       295168    \n",
      "_________________________________________________________________\n",
      "batch_normalization_21 (Batc (None, 12, 12, 256)       1024      \n",
      "_________________________________________________________________\n",
      "activation_21 (Activation)   (None, 12, 12, 256)       0         \n",
      "_________________________________________________________________\n",
      "block3_conv2 (Conv2D)        (None, 12, 12, 256)       590080    \n",
      "_________________________________________________________________\n",
      "batch_normalization_22 (Batc (None, 12, 12, 256)       1024      \n",
      "_________________________________________________________________\n",
      "activation_22 (Activation)   (None, 12, 12, 256)       0         \n",
      "_________________________________________________________________\n",
      "block3_conv3 (Conv2D)        (None, 12, 12, 256)       590080    \n",
      "_________________________________________________________________\n",
      "batch_normalization_23 (Batc (None, 12, 12, 256)       1024      \n",
      "_________________________________________________________________\n",
      "activation_23 (Activation)   (None, 12, 12, 256)       0         \n",
      "_________________________________________________________________\n",
      "block3_pool (MaxPooling2D)   (None, 6, 6, 256)         0         \n",
      "_________________________________________________________________\n",
      "block4_conv1 (Conv2D)        (None, 6, 6, 512)         1180160   \n",
      "_________________________________________________________________\n",
      "batch_normalization_24 (Batc (None, 6, 6, 512)         2048      \n",
      "_________________________________________________________________\n",
      "activation_24 (Activation)   (None, 6, 6, 512)         0         \n",
      "_________________________________________________________________\n",
      "block4_conv2 (Conv2D)        (None, 6, 6, 512)         2359808   \n",
      "_________________________________________________________________\n",
      "batch_normalization_25 (Batc (None, 6, 6, 512)         2048      \n",
      "_________________________________________________________________\n",
      "activation_25 (Activation)   (None, 6, 6, 512)         0         \n",
      "_________________________________________________________________\n",
      "block4_conv3 (Conv2D)        (None, 6, 6, 512)         2359808   \n",
      "_________________________________________________________________\n",
      "batch_normalization_26 (Batc (None, 6, 6, 512)         2048      \n",
      "_________________________________________________________________\n",
      "activation_26 (Activation)   (None, 6, 6, 512)         0         \n",
      "_________________________________________________________________\n",
      "block4_pool (MaxPooling2D)   (None, 3, 3, 512)         0         \n",
      "_________________________________________________________________\n",
      "block5_conv1 (Conv2D)        (None, 3, 3, 512)         2359808   \n",
      "_________________________________________________________________\n",
      "batch_normalization_27 (Batc (None, 3, 3, 512)         2048      \n",
      "_________________________________________________________________\n",
      "activation_27 (Activation)   (None, 3, 3, 512)         0         \n",
      "_________________________________________________________________\n",
      "block5_conv2 (Conv2D)        (None, 3, 3, 512)         2359808   \n",
      "_________________________________________________________________\n",
      "batch_normalization_28 (Batc (None, 3, 3, 512)         2048      \n",
      "_________________________________________________________________\n",
      "activation_28 (Activation)   (None, 3, 3, 512)         0         \n",
      "_________________________________________________________________\n",
      "block5_conv3 (Conv2D)        (None, 3, 3, 512)         2359808   \n",
      "_________________________________________________________________\n",
      "batch_normalization_29 (Batc (None, 3, 3, 512)         2048      \n",
      "_________________________________________________________________\n",
      "activation_29 (Activation)   (None, 3, 3, 512)         0         \n",
      "_________________________________________________________________\n",
      "flatten_2 (Flatten)          (None, 4608)              0         \n",
      "_________________________________________________________________\n",
      "dense_3 (Dense)              (None, 1024)              4719616   \n",
      "_________________________________________________________________\n",
      "batch_normalization_30 (Batc (None, 1024)              4096      \n",
      "_________________________________________________________________\n",
      "activation_30 (Activation)   (None, 1024)              0         \n",
      "_________________________________________________________________\n",
      "dropout_3 (Dropout)          (None, 1024)              0         \n",
      "_________________________________________________________________\n",
      "fc2 (Dense)                  (None, 512)               524800    \n",
      "_________________________________________________________________\n",
      "batch_normalization_31 (Batc (None, 512)               2048      \n",
      "_________________________________________________________________\n",
      "activation_31 (Activation)   (None, 512)               0         \n",
      "_________________________________________________________________\n",
      "dropout_4 (Dropout)          (None, 512)               0         \n",
      "_________________________________________________________________\n",
      "dense_4 (Dense)              (None, 40)                20520     \n",
      "_________________________________________________________________\n",
      "batch_normalization_32 (Batc (None, 40)                160       \n",
      "_________________________________________________________________\n",
      "activation_32 (Activation)   (None, 40)                0         \n",
      "=================================================================\n",
      "Total params: 20,002,248\n",
      "Trainable params: 19,990,648\n",
      "Non-trainable params: 11,600\n",
      "_________________________________________________________________\n"
     ]
    }
   ],
   "source": [
    "model=models.vgg16(in_shape=(50,50,2), n_classes=40, fc1=1024, fc2=512)\n",
    "model.summary()"
   ]
  },
  {
   "cell_type": "code",
   "execution_count": 6,
   "metadata": {},
   "outputs": [],
   "source": [
    "#### for using multi gpu #####\n",
    "#from multi_gpu import multi_gpu_model\n",
    "#model = multi_gpu_model(model, gpus=2)"
   ]
  },
  {
   "cell_type": "code",
   "execution_count": 6,
   "metadata": {},
   "outputs": [],
   "source": [
    "## Learning rate: decay\n",
    "\n",
    "def learning_rate_decay(epoch):\n",
    "    initial_lr = 1e-4\n",
    "    max_epoch = 20\n",
    "\n",
    "    if epoch < max_epoch:\n",
    "        lr = initial_lr\n",
    "    else:\n",
    "        idecay = (epoch // max_epoch)\n",
    "        lr = initial_lr/(idecay * 2)\n",
    "    return lr\n",
    "\n",
    "###### declare check point ####### \n",
    "lr_sched = LearningRateScheduler(learning_rate_decay)\n",
    "model_checkpoint = ModelCheckpoint('CNN.hdf5', monitor='loss', verbose=0, save_best_only=True)"
   ]
  },
  {
   "cell_type": "markdown",
   "metadata": {},
   "source": [
    "### 5. Model compile and training\n",
    "\n",
    "-  loss: cross-entropy \n",
    "\\begin{equation}\\label{eq:cost_ce}\n",
    "    J\\left(\\phi_{1}, \\phi_{2}\\right)=-\\sum_{i=1}^{N} \\phi_{1}(i) \\log \\left(\\phi_{2}(i)\\right)\n",
    "\\end{equation}\n",
    "\n",
    "-  optimizer: Adaptive Moment Estimation (Adam) optimizer [[paper](https://arxiv.org/pdf/1412.6980.pdf%20%22%20entire%20document)]"
   ]
  },
  {
   "cell_type": "code",
   "execution_count": 7,
   "metadata": {},
   "outputs": [],
   "source": [
    "model.compile(loss='categorical_crossentropy',\n",
    "             optimizer='adam',\n",
    "             metrics=['acc'])"
   ]
  },
  {
   "cell_type": "code",
   "execution_count": 9,
   "metadata": {
    "scrolled": true
   },
   "outputs": [
    {
     "name": "stderr",
     "output_type": "stream",
     "text": [
      "C:\\Users\\mjmr0\\Anaconda3\\envs\\mj\\lib\\site-packages\\ipykernel_launcher.py:6: UserWarning: The `nb_epoch` argument in `fit` has been renamed `epochs`.\n",
      "  \n"
     ]
    },
    {
     "name": "stdout",
     "output_type": "stream",
     "text": [
      "Train on 15750 samples, validate on 3150 samples\n",
      "Epoch 1/3\n",
      "15750/15750 [==============================] - 76s 5ms/step - loss: 3.1445 - acc: 0.2232 - val_loss: 3.1092 - val_acc: 0.1517\n",
      "Epoch 2/3\n",
      "15750/15750 [==============================] - 80s 5ms/step - loss: 2.6964 - acc: 0.2812 - val_loss: 2.6784 - val_acc: 0.2133\n",
      "Epoch 3/3\n",
      "15750/15750 [==============================] - 75s 5ms/step - loss: 2.3694 - acc: 0.3212 - val_loss: 2.2675 - val_acc: 0.2235\n"
     ]
    }
   ],
   "source": [
    "history=model.fit(data_train, label_train, \n",
    "                  validation_data=(data_test, label_test), \n",
    "                  nb_epoch=3, \n",
    "                  batch_size=315, \n",
    "                  callbacks=[model_checkpoint,lr_sched ],\n",
    "                  verbose=1)"
   ]
  },
  {
   "cell_type": "markdown",
   "metadata": {},
   "source": [
    "### 6. Testing"
   ]
  },
  {
   "cell_type": "code",
   "execution_count": 10,
   "metadata": {},
   "outputs": [],
   "source": [
    "prediction = model.predict(data_test)"
   ]
  },
  {
   "cell_type": "code",
   "execution_count": 11,
   "metadata": {},
   "outputs": [],
   "source": [
    "prediction_classes=np.argmax(prediction,axis=1)\n",
    "true_classes=np.argmax(label_test,axis=1)"
   ]
  },
  {
   "cell_type": "code",
   "execution_count": 12,
   "metadata": {},
   "outputs": [],
   "source": [
    "predicted_vel=np.zeros([70,45])\n",
    "true_vel=np.zeros([70,45])\n",
    "for i in range(70):\n",
    "    predicted_vel[i,:]=prediction_classes[i*45:i*45+45]\n",
    "    true_vel[i,:]=true_classes[i*45:i*45+45]"
   ]
  },
  {
   "cell_type": "code",
   "execution_count": 13,
   "metadata": {},
   "outputs": [
    {
     "data": {
      "image/png": "[encoded data removed]",
      "text/plain": [
       "<Figure size 1080x1080 with 3 Axes>"
      ]
     },
     "metadata": {
      "needs_background": "light"
     },
     "output_type": "display_data"
    }
   ],
   "source": [
    "n=0\n",
    "x=25\n",
    "fig = plt.figure(figsize=[15,15])\n",
    "ax1 = fig.add_subplot(2,3,1)\n",
    "ax1.imshow(predicted_vel.T,aspect='auto',vmin=n,vmax=x)\n",
    "ax1.title.set_text('prediction')\n",
    "ax2 = fig.add_subplot(2,3,2)\n",
    "ax2.imshow(true_vel.T,aspect='auto',vmin=n,vmax=x)\n",
    "ax2.title.set_text('true')\n",
    "ax3 = fig.add_subplot(2,3,3)\n",
    "ax3.imshow(np.abs(predicted_vel.T-true_vel.T),aspect='auto',vmin=n,vmax=x)\n",
    "ax3.title.set_text('abs(prediction-true)')"
   ]
  },
  {
   "cell_type": "code",
   "execution_count": null,
   "metadata": {},
   "outputs": [],
   "source": []
  }
 ],
 "metadata": {
  "kernelspec": {
   "display_name": "Python 3",
   "language": "python",
   "name": "python3"
  },
  "language_info": {
   "codemirror_mode": {
    "name": "ipython",
    "version": 3
   },
   "file_extension": ".py",
   "mimetype": "text/x-python",
   "name": "python",
   "nbconvert_exporter": "python",
   "pygments_lexer": "ipython3",
   "version": "3.6.8"
  }
 },
 "nbformat": 4,
 "nbformat_minor": 2
}
