{
 "cells": [
  {
   "cell_type": "code",
   "execution_count": 1,
   "metadata": {},
   "outputs": [
    {
     "name": "stderr",
     "output_type": "stream",
     "text": [
      "Using TensorFlow backend.\n"
     ]
    }
   ],
   "source": [
    "import tensorflow as tf\n",
    "import keras\n",
    "from keras.models import Sequential, Model \n",
    "from keras.layers.core import Flatten, Dense, Dropout\n",
    "from keras.layers.convolutional import Conv2D\n",
    "from keras.layers.convolutional import MaxPooling2D\n",
    "from keras.layers.convolutional import ZeroPadding2D\n",
    "from keras.preprocessing.image import ImageDataGenerator\n",
    "from keras.callbacks import ModelCheckpoint, LearningRateScheduler\n",
    "from keras.optimizers import SGD\n",
    "import numpy as np\n",
    "import matplotlib.pyplot as plt\n",
    "from PIL import Image"
   ]
  },
  {
   "cell_type": "code",
   "execution_count": 2,
   "metadata": {},
   "outputs": [],
   "source": [
    "import data\n",
    "import models\n",
    "from validation import recall_m, precision_m, f1_m, auc"
   ]
  },
  {
   "cell_type": "code",
   "execution_count": 3,
   "metadata": {},
   "outputs": [],
   "source": [
    "data_train,label_train=data.data_train()\n",
    "data_test,label_test=data.testing()\n",
    "data_marm,label_marm,data_marml_tl,label_marm_tl=data.marmousi()"
   ]
  },
  {
   "cell_type": "code",
   "execution_count": 4,
   "metadata": {},
   "outputs": [
    {
     "name": "stdout",
     "output_type": "stream",
     "text": [
      "train input size = (15750, 50, 50, 2)\n",
      "train label size = (15750, 40)\n",
      "test input size = (3150, 50, 50, 2)\n",
      "test label size = (3150, 40)\n",
      "marmousi input size = (17325, 50, 50, 2)\n",
      "marmousi label size = (17325, 40)\n"
     ]
    }
   ],
   "source": [
    "print('train input size =',data_train.shape)\n",
    "print('train label size =',label_train.shape)\n",
    "\n",
    "print('test input size =',data_test.shape)\n",
    "print('test label size =',label_test.shape)\n",
    "\n",
    "print('marmousi input size =',data_marm.shape)\n",
    "print('marmousi label size =',label_marm.shape)"
   ]
  },
  {
   "cell_type": "code",
   "execution_count": 5,
   "metadata": {},
   "outputs": [
    {
     "name": "stdout",
     "output_type": "stream",
     "text": [
      "WARNING:tensorflow:From /home/packages/conda/envs/saigml/lib/python3.7/site-packages/tensorflow/python/framework/op_def_library.py:263: colocate_with (from tensorflow.python.framework.ops) is deprecated and will be removed in a future version.\n",
      "Instructions for updating:\n",
      "Colocations handled automatically by placer.\n",
      "WARNING:tensorflow:From /home/packages/conda/envs/saigml/lib/python3.7/site-packages/keras/backend/tensorflow_backend.py:3445: calling dropout (from tensorflow.python.ops.nn_ops) with keep_prob is deprecated and will be removed in a future version.\n",
      "Instructions for updating:\n",
      "Please use `rate` instead of `keep_prob`. Rate should be set to `rate = 1 - keep_prob`.\n",
      "_________________________________________________________________\n",
      "Layer (type)                 Output Shape              Param #   \n",
      "=================================================================\n",
      "conv2d_1 (Conv2D)            (None, 50, 50, 64)        1216      \n",
      "_________________________________________________________________\n",
      "max_pooling2d_1 (MaxPooling2 (None, 25, 25, 64)        0         \n",
      "_________________________________________________________________\n",
      "conv2d_2 (Conv2D)            (None, 25, 25, 128)       73856     \n",
      "_________________________________________________________________\n",
      "max_pooling2d_2 (MaxPooling2 (None, 12, 12, 128)       0         \n",
      "_________________________________________________________________\n",
      "flatten_1 (Flatten)          (None, 18432)             0         \n",
      "_________________________________________________________________\n",
      "dense_1 (Dense)              (None, 256)               4718848   \n",
      "_________________________________________________________________\n",
      "dropout_1 (Dropout)          (None, 256)               0         \n",
      "_________________________________________________________________\n",
      "dense_2 (Dense)              (None, 128)               32896     \n",
      "_________________________________________________________________\n",
      "dropout_2 (Dropout)          (None, 128)               0         \n",
      "_________________________________________________________________\n",
      "dense_3 (Dense)              (None, 40)                5160      \n",
      "=================================================================\n",
      "Total params: 4,831,976\n",
      "Trainable params: 4,831,976\n",
      "Non-trainable params: 0\n",
      "_________________________________________________________________\n"
     ]
    }
   ],
   "source": [
    "##models.simple = two layers cnn \n",
    "##models.vgg16= vgg16 \n",
    "\n",
    "model=models.simple()\n",
    "#model=models.vgg16()\n",
    "model.summary()"
   ]
  },
  {
   "cell_type": "code",
   "execution_count": 6,
   "metadata": {},
   "outputs": [],
   "source": [
    "#### for using multi gpu #####\n",
    "\n",
    "#from multi_gpu import multi_gpu_model\n",
    "#model = multi_gpu_model(model, gpus=2)"
   ]
  },
  {
   "cell_type": "code",
   "execution_count": 7,
   "metadata": {},
   "outputs": [],
   "source": [
    "def learning_rate_decay(epoch):\n",
    "    initial_lr = 1e-4\n",
    "    max_epoch = 20\n",
    "\n",
    "    if epoch < max_epoch:\n",
    "        lr = initial_lr\n",
    "    else:\n",
    "        idecay = (epoch // max_epoch)\n",
    "        lr = initial_lr/(idecay * 2)\n",
    "    return lr\n",
    "\n",
    "###### declare check point ####### \n",
    "lr_sched = LearningRateScheduler(learning_rate_decay)\n",
    "model_checkpoint = ModelCheckpoint('CNN.hdf5', monitor='loss', verbose=0, save_best_only=True)"
   ]
  },
  {
   "cell_type": "code",
   "execution_count": 8,
   "metadata": {},
   "outputs": [],
   "source": [
    "model.compile(loss='categorical_crossentropy',\n",
    "             optimizer='adam',\n",
    "             metrics=['acc'])"
   ]
  },
  {
   "cell_type": "code",
   "execution_count": 9,
   "metadata": {
    "scrolled": true
   },
   "outputs": [
    {
     "name": "stdout",
     "output_type": "stream",
     "text": [
      "WARNING:tensorflow:From /home/packages/conda/envs/saigml/lib/python3.7/site-packages/tensorflow/python/ops/math_ops.py:3066: to_int32 (from tensorflow.python.ops.math_ops) is deprecated and will be removed in a future version.\n",
      "Instructions for updating:\n",
      "Use tf.cast instead.\n"
     ]
    },
    {
     "name": "stderr",
     "output_type": "stream",
     "text": [
      "/home/packages/conda/envs/saigml/lib/python3.7/site-packages/ipykernel_launcher.py:6: UserWarning: The `nb_epoch` argument in `fit` has been renamed `epochs`.\n",
      "  \n"
     ]
    },
    {
     "name": "stdout",
     "output_type": "stream",
     "text": [
      "Train on 15750 samples, validate on 3150 samples\n",
      "Epoch 1/100\n",
      "15750/15750 [==============================] - 6s 404us/step - loss: 3.3874 - acc: 0.2037 - val_loss: 3.3851 - val_acc: 0.1054\n",
      "Epoch 2/100\n",
      "15750/15750 [==============================] - 1s 87us/step - loss: 3.0494 - acc: 0.2363 - val_loss: 3.0384 - val_acc: 0.1270\n",
      "Epoch 3/100\n",
      "15750/15750 [==============================] - 1s 85us/step - loss: 2.6341 - acc: 0.2827 - val_loss: 2.6135 - val_acc: 0.2330\n",
      "Epoch 4/100\n",
      "15750/15750 [==============================] - 1s 87us/step - loss: 2.3044 - acc: 0.3318 - val_loss: 2.2478 - val_acc: 0.2514\n",
      "Epoch 5/100\n",
      "15750/15750 [==============================] - 1s 91us/step - loss: 2.0884 - acc: 0.3670 - val_loss: 2.1041 - val_acc: 0.2556\n",
      "Epoch 6/100\n",
      "15750/15750 [==============================] - 1s 90us/step - loss: 1.9279 - acc: 0.3942 - val_loss: 2.0619 - val_acc: 0.2632\n",
      "Epoch 7/100\n",
      "15750/15750 [==============================] - 1s 88us/step - loss: 1.8053 - acc: 0.4185 - val_loss: 2.0102 - val_acc: 0.2724\n",
      "Epoch 8/100\n",
      "15750/15750 [==============================] - 1s 88us/step - loss: 1.7211 - acc: 0.4342 - val_loss: 2.0464 - val_acc: 0.2597\n",
      "Epoch 9/100\n",
      "15750/15750 [==============================] - 1s 88us/step - loss: 1.6378 - acc: 0.4542 - val_loss: 2.0105 - val_acc: 0.2638\n",
      "Epoch 10/100\n",
      "15750/15750 [==============================] - 1s 88us/step - loss: 1.5670 - acc: 0.4594 - val_loss: 2.0705 - val_acc: 0.2644\n",
      "Epoch 11/100\n",
      "15750/15750 [==============================] - 1s 90us/step - loss: 1.4988 - acc: 0.4797 - val_loss: 2.0793 - val_acc: 0.2663\n",
      "Epoch 12/100\n",
      "15750/15750 [==============================] - 2s 96us/step - loss: 1.4436 - acc: 0.4921 - val_loss: 2.0967 - val_acc: 0.2610\n",
      "Epoch 13/100\n",
      "15750/15750 [==============================] - 1s 94us/step - loss: 1.4018 - acc: 0.4963 - val_loss: 2.1216 - val_acc: 0.2676\n",
      "Epoch 14/100\n",
      "15750/15750 [==============================] - 1s 87us/step - loss: 1.3442 - acc: 0.5130 - val_loss: 2.1561 - val_acc: 0.2654\n",
      "Epoch 15/100\n",
      "15750/15750 [==============================] - 1s 90us/step - loss: 1.2981 - acc: 0.5273 - val_loss: 2.1455 - val_acc: 0.2752\n",
      "Epoch 16/100\n",
      "15750/15750 [==============================] - 1s 94us/step - loss: 1.2654 - acc: 0.5335 - val_loss: 2.1547 - val_acc: 0.2752\n",
      "Epoch 17/100\n",
      "15750/15750 [==============================] - 1s 92us/step - loss: 1.2333 - acc: 0.5415 - val_loss: 2.1853 - val_acc: 0.2860\n",
      "Epoch 18/100\n",
      "15750/15750 [==============================] - 1s 86us/step - loss: 1.1918 - acc: 0.5500 - val_loss: 2.2722 - val_acc: 0.2819\n",
      "Epoch 19/100\n",
      "15750/15750 [==============================] - 1s 87us/step - loss: 1.1625 - acc: 0.5583 - val_loss: 2.2406 - val_acc: 0.2784\n",
      "Epoch 20/100\n",
      "15750/15750 [==============================] - 1s 91us/step - loss: 1.1344 - acc: 0.5650 - val_loss: 2.3624 - val_acc: 0.2692\n",
      "Epoch 21/100\n",
      "15750/15750 [==============================] - 2s 98us/step - loss: 1.1036 - acc: 0.5755 - val_loss: 2.3644 - val_acc: 0.2743\n",
      "Epoch 22/100\n",
      "15750/15750 [==============================] - 1s 87us/step - loss: 1.0880 - acc: 0.5723 - val_loss: 2.3525 - val_acc: 0.2797\n",
      "Epoch 23/100\n",
      "15750/15750 [==============================] - 1s 88us/step - loss: 1.0775 - acc: 0.5829 - val_loss: 2.3666 - val_acc: 0.2816\n",
      "Epoch 24/100\n",
      "15750/15750 [==============================] - 1s 88us/step - loss: 1.0675 - acc: 0.5816 - val_loss: 2.4040 - val_acc: 0.2730\n",
      "Epoch 25/100\n",
      "15750/15750 [==============================] - 1s 88us/step - loss: 1.0534 - acc: 0.5890 - val_loss: 2.4254 - val_acc: 0.2762\n",
      "Epoch 26/100\n",
      "15750/15750 [==============================] - 1s 87us/step - loss: 1.0392 - acc: 0.5938 - val_loss: 2.4645 - val_acc: 0.2746\n",
      "Epoch 27/100\n",
      "15750/15750 [==============================] - 2s 96us/step - loss: 1.0273 - acc: 0.5957 - val_loss: 2.4352 - val_acc: 0.2749\n",
      "Epoch 28/100\n",
      "15750/15750 [==============================] - 1s 89us/step - loss: 1.0105 - acc: 0.6048 - val_loss: 2.4716 - val_acc: 0.2797\n",
      "Epoch 29/100\n",
      "15750/15750 [==============================] - 1s 87us/step - loss: 1.0111 - acc: 0.6004 - val_loss: 2.5028 - val_acc: 0.2676\n",
      "Epoch 30/100\n",
      "15750/15750 [==============================] - 1s 88us/step - loss: 0.9952 - acc: 0.6078 - val_loss: 2.4859 - val_acc: 0.2765\n",
      "Epoch 31/100\n",
      "15750/15750 [==============================] - 1s 88us/step - loss: 0.9809 - acc: 0.6097 - val_loss: 2.5314 - val_acc: 0.2727\n",
      "Epoch 32/100\n",
      "15750/15750 [==============================] - 2s 96us/step - loss: 0.9643 - acc: 0.6145 - val_loss: 2.5204 - val_acc: 0.2759\n",
      "Epoch 33/100\n",
      "15750/15750 [==============================] - 1s 92us/step - loss: 0.9557 - acc: 0.6207 - val_loss: 2.5216 - val_acc: 0.2784\n",
      "Epoch 34/100\n",
      "15750/15750 [==============================] - 1s 88us/step - loss: 0.9414 - acc: 0.6243 - val_loss: 2.5658 - val_acc: 0.2794\n",
      "Epoch 35/100\n",
      "15750/15750 [==============================] - 1s 86us/step - loss: 0.9458 - acc: 0.6208 - val_loss: 2.5746 - val_acc: 0.2762\n",
      "Epoch 36/100\n",
      "15750/15750 [==============================] - 1s 89us/step - loss: 0.9270 - acc: 0.6298 - val_loss: 2.6091 - val_acc: 0.2778\n",
      "Epoch 37/100\n",
      "15750/15750 [==============================] - 1s 87us/step - loss: 0.9153 - acc: 0.6343 - val_loss: 2.6861 - val_acc: 0.2756\n",
      "Epoch 38/100\n",
      "15750/15750 [==============================] - 1s 87us/step - loss: 0.9035 - acc: 0.6359 - val_loss: 2.6190 - val_acc: 0.2670\n",
      "Epoch 39/100\n",
      "15750/15750 [==============================] - 1s 89us/step - loss: 0.9102 - acc: 0.6358 - val_loss: 2.6438 - val_acc: 0.2768\n",
      "Epoch 40/100\n",
      "15750/15750 [==============================] - 2s 99us/step - loss: 0.9000 - acc: 0.6362 - val_loss: 2.6369 - val_acc: 0.2740\n",
      "Epoch 41/100\n",
      "15750/15750 [==============================] - 1s 88us/step - loss: 0.8889 - acc: 0.6383 - val_loss: 2.7208 - val_acc: 0.2638\n",
      "Epoch 42/100\n",
      "15750/15750 [==============================] - 1s 88us/step - loss: 0.8827 - acc: 0.6439 - val_loss: 2.6873 - val_acc: 0.2676\n",
      "Epoch 43/100\n",
      "15750/15750 [==============================] - 1s 88us/step - loss: 0.8667 - acc: 0.6477 - val_loss: 2.7178 - val_acc: 0.2695\n",
      "Epoch 44/100\n",
      "15750/15750 [==============================] - 1s 88us/step - loss: 0.8637 - acc: 0.6465 - val_loss: 2.7666 - val_acc: 0.2705\n",
      "Epoch 45/100\n",
      "15750/15750 [==============================] - 2s 100us/step - loss: 0.8726 - acc: 0.6450 - val_loss: 2.7190 - val_acc: 0.2702\n",
      "Epoch 46/100\n",
      "15750/15750 [==============================] - 1s 89us/step - loss: 0.8631 - acc: 0.6489 - val_loss: 2.7367 - val_acc: 0.2676\n",
      "Epoch 47/100\n",
      "15750/15750 [==============================] - 1s 87us/step - loss: 0.8566 - acc: 0.6530 - val_loss: 2.7570 - val_acc: 0.2676\n",
      "Epoch 48/100\n",
      "15750/15750 [==============================] - 1s 87us/step - loss: 0.8511 - acc: 0.6507 - val_loss: 2.7676 - val_acc: 0.2708\n",
      "Epoch 49/100\n",
      "15750/15750 [==============================] - 1s 94us/step - loss: 0.8518 - acc: 0.6545 - val_loss: 2.7490 - val_acc: 0.2657\n",
      "Epoch 50/100\n",
      "15750/15750 [==============================] - 2s 96us/step - loss: 0.8333 - acc: 0.6613 - val_loss: 2.7954 - val_acc: 0.2648\n",
      "Epoch 51/100\n",
      "15750/15750 [==============================] - 1s 87us/step - loss: 0.8412 - acc: 0.6545 - val_loss: 2.8141 - val_acc: 0.2667\n",
      "Epoch 52/100\n",
      "15750/15750 [==============================] - 1s 88us/step - loss: 0.8359 - acc: 0.6580 - val_loss: 2.7913 - val_acc: 0.2644\n",
      "Epoch 53/100\n",
      "15750/15750 [==============================] - 1s 88us/step - loss: 0.8297 - acc: 0.6592 - val_loss: 2.8121 - val_acc: 0.2708\n",
      "Epoch 54/100\n",
      "15750/15750 [==============================] - 1s 88us/step - loss: 0.8223 - acc: 0.6632 - val_loss: 2.8217 - val_acc: 0.2670\n",
      "Epoch 55/100\n",
      "15750/15750 [==============================] - 1s 87us/step - loss: 0.8208 - acc: 0.6639 - val_loss: 2.8507 - val_acc: 0.2635\n",
      "Epoch 56/100\n",
      "15750/15750 [==============================] - 1s 88us/step - loss: 0.8226 - acc: 0.6638 - val_loss: 2.8651 - val_acc: 0.2654\n",
      "Epoch 57/100\n",
      "15750/15750 [==============================] - 1s 90us/step - loss: 0.8124 - acc: 0.6673 - val_loss: 2.8334 - val_acc: 0.2705\n",
      "Epoch 58/100\n",
      "15750/15750 [==============================] - 1s 90us/step - loss: 0.8189 - acc: 0.6668 - val_loss: 2.8162 - val_acc: 0.2660\n",
      "Epoch 59/100\n",
      "15750/15750 [==============================] - 1s 89us/step - loss: 0.8057 - acc: 0.6712 - val_loss: 2.8201 - val_acc: 0.2651\n",
      "Epoch 60/100\n",
      "15750/15750 [==============================] - 1s 93us/step - loss: 0.8047 - acc: 0.6698 - val_loss: 2.8416 - val_acc: 0.2587\n",
      "Epoch 61/100\n",
      "15750/15750 [==============================] - 1s 92us/step - loss: 0.7991 - acc: 0.6714 - val_loss: 2.8709 - val_acc: 0.2616\n",
      "Epoch 62/100\n",
      "15750/15750 [==============================] - 1s 87us/step - loss: 0.8021 - acc: 0.6735 - val_loss: 2.8763 - val_acc: 0.2600\n",
      "Epoch 63/100\n",
      "15750/15750 [==============================] - 1s 88us/step - loss: 0.7843 - acc: 0.6754 - val_loss: 2.9336 - val_acc: 0.2603\n",
      "Epoch 64/100\n",
      "15750/15750 [==============================] - 1s 87us/step - loss: 0.7840 - acc: 0.6757 - val_loss: 2.8904 - val_acc: 0.2692\n",
      "Epoch 65/100\n",
      "15750/15750 [==============================] - 1s 88us/step - loss: 0.7991 - acc: 0.6698 - val_loss: 2.8451 - val_acc: 0.2635\n",
      "Epoch 66/100\n",
      "15750/15750 [==============================] - 1s 88us/step - loss: 0.7910 - acc: 0.6751 - val_loss: 2.8979 - val_acc: 0.2622\n",
      "Epoch 67/100\n",
      "15750/15750 [==============================] - 1s 88us/step - loss: 0.7894 - acc: 0.6737 - val_loss: 2.9254 - val_acc: 0.2600\n",
      "Epoch 68/100\n",
      "15750/15750 [==============================] - 1s 90us/step - loss: 0.7845 - acc: 0.6751 - val_loss: 2.9138 - val_acc: 0.2587\n",
      "Epoch 69/100\n",
      "15750/15750 [==============================] - 1s 94us/step - loss: 0.7808 - acc: 0.6816 - val_loss: 2.9161 - val_acc: 0.2600\n",
      "Epoch 70/100\n",
      "15750/15750 [==============================] - 2s 100us/step - loss: 0.7735 - acc: 0.6779 - val_loss: 2.9384 - val_acc: 0.2619\n",
      "Epoch 71/100\n",
      "15750/15750 [==============================] - 1s 89us/step - loss: 0.7730 - acc: 0.6851 - val_loss: 2.9546 - val_acc: 0.2606\n",
      "Epoch 72/100\n",
      "15750/15750 [==============================] - 1s 87us/step - loss: 0.7750 - acc: 0.6833 - val_loss: 2.9484 - val_acc: 0.2632\n",
      "Epoch 73/100\n",
      "15750/15750 [==============================] - 1s 89us/step - loss: 0.7730 - acc: 0.6819 - val_loss: 2.9772 - val_acc: 0.2571\n",
      "Epoch 74/100\n",
      "15750/15750 [==============================] - 1s 89us/step - loss: 0.7692 - acc: 0.6852 - val_loss: 2.9890 - val_acc: 0.2622\n",
      "Epoch 75/100\n",
      "15750/15750 [==============================] - 2s 97us/step - loss: 0.7735 - acc: 0.6815 - val_loss: 2.9699 - val_acc: 0.2584\n",
      "Epoch 76/100\n",
      "15750/15750 [==============================] - 1s 95us/step - loss: 0.7680 - acc: 0.6811 - val_loss: 3.0150 - val_acc: 0.2603\n",
      "Epoch 77/100\n",
      "15750/15750 [==============================] - 1s 86us/step - loss: 0.7607 - acc: 0.6808 - val_loss: 3.0106 - val_acc: 0.2641\n",
      "Epoch 78/100\n",
      "15750/15750 [==============================] - 1s 88us/step - loss: 0.7579 - acc: 0.6895 - val_loss: 2.9763 - val_acc: 0.2660\n",
      "Epoch 79/100\n",
      "15750/15750 [==============================] - 1s 88us/step - loss: 0.7630 - acc: 0.6858 - val_loss: 2.9824 - val_acc: 0.2641\n",
      "Epoch 80/100\n",
      "15750/15750 [==============================] - 1s 87us/step - loss: 0.7472 - acc: 0.6913 - val_loss: 3.0537 - val_acc: 0.2616\n",
      "Epoch 81/100\n",
      "15750/15750 [==============================] - 1s 88us/step - loss: 0.7550 - acc: 0.6891 - val_loss: 3.0130 - val_acc: 0.2606\n",
      "Epoch 82/100\n",
      "15750/15750 [==============================] - 1s 89us/step - loss: 0.7563 - acc: 0.6886 - val_loss: 2.9962 - val_acc: 0.2644\n",
      "Epoch 83/100\n",
      "15750/15750 [==============================] - 1s 88us/step - loss: 0.7386 - acc: 0.6952 - val_loss: 3.0292 - val_acc: 0.2603\n",
      "Epoch 84/100\n",
      "15750/15750 [==============================] - 2s 100us/step - loss: 0.7417 - acc: 0.6925 - val_loss: 3.0485 - val_acc: 0.2625\n",
      "Epoch 85/100\n",
      "15750/15750 [==============================] - 1s 91us/step - loss: 0.7488 - acc: 0.6891 - val_loss: 3.0202 - val_acc: 0.2648\n",
      "Epoch 86/100\n",
      "15750/15750 [==============================] - 1s 88us/step - loss: 0.7563 - acc: 0.6845 - val_loss: 3.0370 - val_acc: 0.2610\n",
      "Epoch 87/100\n",
      "15750/15750 [==============================] - 1s 87us/step - loss: 0.7410 - acc: 0.6926 - val_loss: 3.0449 - val_acc: 0.2648\n",
      "Epoch 88/100\n",
      "15750/15750 [==============================] - 1s 87us/step - loss: 0.7445 - acc: 0.6925 - val_loss: 3.0534 - val_acc: 0.2641\n",
      "Epoch 89/100\n",
      "15750/15750 [==============================] - 1s 89us/step - loss: 0.7372 - acc: 0.6914 - val_loss: 3.0727 - val_acc: 0.2644\n",
      "Epoch 90/100\n",
      "15750/15750 [==============================] - 1s 89us/step - loss: 0.7423 - acc: 0.6943 - val_loss: 3.0594 - val_acc: 0.2587\n",
      "Epoch 91/100\n",
      "15750/15750 [==============================] - 1s 91us/step - loss: 0.7402 - acc: 0.6983 - val_loss: 3.0529 - val_acc: 0.2644\n",
      "Epoch 92/100\n",
      "15750/15750 [==============================] - 1s 88us/step - loss: 0.7347 - acc: 0.6956 - val_loss: 3.0510 - val_acc: 0.2606\n",
      "Epoch 93/100\n",
      "15750/15750 [==============================] - 1s 87us/step - loss: 0.7370 - acc: 0.6971 - val_loss: 3.0698 - val_acc: 0.2619\n",
      "Epoch 94/100\n",
      "15750/15750 [==============================] - 1s 89us/step - loss: 0.7368 - acc: 0.6935 - val_loss: 3.0871 - val_acc: 0.2616\n",
      "Epoch 95/100\n",
      "15750/15750 [==============================] - 1s 89us/step - loss: 0.7262 - acc: 0.6961 - val_loss: 3.0841 - val_acc: 0.2594\n",
      "Epoch 96/100\n",
      "15750/15750 [==============================] - 1s 88us/step - loss: 0.7323 - acc: 0.7010 - val_loss: 3.0441 - val_acc: 0.2657\n",
      "Epoch 97/100\n",
      "15750/15750 [==============================] - 2s 100us/step - loss: 0.7212 - acc: 0.6990 - val_loss: 3.0867 - val_acc: 0.2625\n",
      "Epoch 98/100\n",
      "15750/15750 [==============================] - 1s 90us/step - loss: 0.7234 - acc: 0.7016 - val_loss: 3.0750 - val_acc: 0.2606\n",
      "Epoch 99/100\n",
      "15750/15750 [==============================] - 1s 88us/step - loss: 0.7282 - acc: 0.6983 - val_loss: 3.1011 - val_acc: 0.2568\n",
      "Epoch 100/100\n",
      "15750/15750 [==============================] - 1s 89us/step - loss: 0.7096 - acc: 0.7066 - val_loss: 3.1267 - val_acc: 0.2622\n"
     ]
    }
   ],
   "source": [
    "history=model.fit(data_train, label_train, \n",
    "                  validation_data=(data_test, label_test), \n",
    "                  nb_epoch=100, \n",
    "                  batch_size=315, \n",
    "                  callbacks=[model_checkpoint,lr_sched ],\n",
    "                  verbose=1)"
   ]
  },
  {
   "cell_type": "code",
   "execution_count": 10,
   "metadata": {},
   "outputs": [],
   "source": [
    "prediction = model.predict(data_test)"
   ]
  },
  {
   "cell_type": "code",
   "execution_count": 11,
   "metadata": {},
   "outputs": [],
   "source": [
    "prediction_classes=np.argmax(prediction,axis=1)\n",
    "true_classes=np.argmax(label_test,axis=1)"
   ]
  },
  {
   "cell_type": "code",
   "execution_count": 12,
   "metadata": {},
   "outputs": [],
   "source": [
    "predicted_vel=np.zeros([70,45])\n",
    "true_vel=np.zeros([70,45])\n",
    "for i in range(70):\n",
    "    predicted_vel[i,:]=prediction_classes[i*45:i*45+45]\n",
    "    true_vel[i,:]=true_classes[i*45:i*45+45]"
   ]
  },
  {
   "cell_type": "code",
   "execution_count": 13,
   "metadata": {},
   "outputs": [
    {
     "data": {
      "image/png": "[encoded data removed]",
      "text/plain": [
       "<Figure size 1080x1080 with 3 Axes>"
      ]
     },
     "metadata": {
      "needs_background": "light"
     },
     "output_type": "display_data"
    }
   ],
   "source": [
    "n=0\n",
    "x=25\n",
    "fig = plt.figure(figsize=[15,15])\n",
    "ax1 = fig.add_subplot(2,3,1)\n",
    "ax1.imshow(predicted_vel.T,aspect='auto',vmin=n,vmax=x)\n",
    "ax1.title.set_text('prediction')\n",
    "ax2 = fig.add_subplot(2,3,2)\n",
    "ax2.imshow(true_vel.T,aspect='auto',vmin=n,vmax=x)\n",
    "ax2.title.set_text('true')\n",
    "ax3 = fig.add_subplot(2,3,3)\n",
    "ax3.imshow(np.abs(predicted_vel.T-true_vel.T),aspect='auto',vmin=n,vmax=x)\n",
    "ax3.title.set_text('abs(prediction-true)')"
   ]
  },
  {
   "cell_type": "code",
   "execution_count": null,
   "metadata": {},
   "outputs": [],
   "source": []
  }
 ],
 "metadata": {
  "kernelspec": {
   "display_name": "Python 3",
   "language": "python",
   "name": "python3"
  },
  "language_info": {
   "codemirror_mode": {
    "name": "ipython",
    "version": 3
   },
   "file_extension": ".py",
   "mimetype": "text/x-python",
   "name": "python",
   "nbconvert_exporter": "python",
   "pygments_lexer": "ipython3",
   "version": "3.6.8"
  }
 },
 "nbformat": 4,
 "nbformat_minor": 2
}
